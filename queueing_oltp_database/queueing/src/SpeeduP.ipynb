{
 "cells": [
  {
   "cell_type": "code",
   "execution_count": null,
   "metadata": {},
   "outputs": [],
   "source": []
  },
  {
   "cell_type": "markdown",
   "metadata": {},
   "source": [
    "Speedup"
   ]
  },
  {
   "cell_type": "code",
   "execution_count": 14,
   "metadata": {},
   "outputs": [],
   "source": [
    "import matplotlib.pyplot as plt\n",
    "import seaborn as sns\n",
    "import statistics as stats\n",
    "import pandas as pd"
   ]
  },
  {
   "cell_type": "code",
   "execution_count": 98,
   "metadata": {},
   "outputs": [],
   "source": [
    "# 7000 connections, 16x32\n",
    "\n",
    "driver1_7000 = [123695.25649121504,147514.8400815097,137364.52612676038,144602.37964276408,118780.66122423744]\n",
    "driver2_7000 = [134641.19939836004,109408.23179212655,130395.62476342135,145040.73917058186, 162174.271595639]\n",
    "\n",
    "driver1_5000 = [130402.77357170456,152358.11936091946,112822.96845248448,135383.09757611403, 140433.64334634112]\n",
    "driver2_5000 = [119526.2024407753,104600.97711343186,152358.11936091946,129781.38527013754, 137707.62974705355]\n",
    "\n",
    "driver1_4000 = [128084.14833657283,123237.48195847674,115243.52259880488,131417.62653715213,125921.7243335224]\n",
    "driver2_4000 = [127821.2805158913,124817.89581266571,113372.25137544713,111458.21711480532, 126115.98125555465]\n",
    "\n",
    "driver1_6000 = [118652.84481775684, 99245.37749007547,123642.28640454667]\n",
    "driver2_6000 = [127368.233164189, 108371.62681107539, 151195.946314088]\n",
    "\n",
    "tps_7000 = [i + j for i,j in zip(driver1_7000, driver2_7000)]\n",
    "tps_5000 = [i + j for i,j in zip(driver1_5000, driver2_5000)]\n",
    "tps_4000 = [i + j for i,j in zip(driver1_4000, driver2_4000)]\n",
    "tps_6000 = [i + j for i,j in zip(driver1_6000, driver2_6000)]\n"
   ]
  },
  {
   "cell_type": "code",
   "execution_count": 102,
   "metadata": {},
   "outputs": [],
   "source": [
    "tot = [tps_4000, tps_5000, tps_6000, tps_7000]\n",
    "tps1000 = 56758.27549786261 + 56248.92211410519\n",
    "tps1001 = 55693.72728151103 + 55443.934573679566\n",
    "\n",
    "totaltps = [tps1000, tps1001]\n",
    "\n",
    "for i in tot:\n",
    "    totaltps.extend(i)\n",
    "\n",
    "frequency = [2, 5, 5, 3, 5]\n",
    "conn = [[1000], [4000], [5000], [6000], [7000]]\n",
    "\n",
    "xaxis = []\n",
    "for i, j in list(zip(frequency, conn)):\n",
    "    xaxis.extend(i*j)\n",
    "\n",
    "values = list(zip(totaltps, xaxis))"
   ]
  },
  {
   "cell_type": "code",
   "execution_count": 103,
   "metadata": {},
   "outputs": [
    {
     "name": "stdout",
     "output_type": "stream",
     "text": [
      "[258336.45588957507, 256923.07187363625, 267760.1508901817, 289643.1188133459, 280954.93281987647] [249928.97601247986, 256959.0964743513, 265181.0878134039, 265164.4828462516, 278141.2730933947]\n",
      "[255905.42885246413, 248055.37777114246, 228615.773974252, 242875.84365195746, 252037.70558907706]\n",
      "14276.784562626111 10559.54961138721 10600.799086270497\n"
     ]
    }
   ],
   "source": [
    "print(tps_7000,tps_5000)\n",
    "print(tps_4000)\n",
    "print(stats.stdev(tps_7000),stats.stdev(tps_5000), stats.stdev(tps_4000))\n",
    "\n",
    "tps = [stats.mean(tps_4000), stats.mean(tps_5000), stats.mean(tps_7000)]\n",
    "xaxis = [4000, 5000, 7000]"
   ]
  },
  {
   "cell_type": "code",
   "execution_count": 36,
   "metadata": {},
   "outputs": [
    {
     "data": {
      "text/plain": [
       "[4000, 5000, 7000, 4000, 5000, 7000, 4000, 5000, 7000]"
      ]
     },
     "execution_count": 36,
     "metadata": {},
     "output_type": "execute_result"
    }
   ],
   "source": [
    "3*xaxis"
   ]
  },
  {
   "cell_type": "code",
   "execution_count": 104,
   "metadata": {},
   "outputs": [
    {
     "data": {
      "text/html": [
       "<div>\n",
       "<style scoped>\n",
       "    .dataframe tbody tr th:only-of-type {\n",
       "        vertical-align: middle;\n",
       "    }\n",
       "\n",
       "    .dataframe tbody tr th {\n",
       "        vertical-align: top;\n",
       "    }\n",
       "\n",
       "    .dataframe thead th {\n",
       "        text-align: right;\n",
       "    }\n",
       "</style>\n",
       "<table border=\"1\" class=\"dataframe\">\n",
       "  <thead>\n",
       "    <tr style=\"text-align: right;\">\n",
       "      <th></th>\n",
       "      <th>TPS</th>\n",
       "      <th>Connections</th>\n",
       "    </tr>\n",
       "  </thead>\n",
       "  <tbody>\n",
       "    <tr>\n",
       "      <th>0</th>\n",
       "      <td>113007.197612</td>\n",
       "      <td>1000</td>\n",
       "    </tr>\n",
       "    <tr>\n",
       "      <th>1</th>\n",
       "      <td>111137.661855</td>\n",
       "      <td>1000</td>\n",
       "    </tr>\n",
       "    <tr>\n",
       "      <th>2</th>\n",
       "      <td>255905.428852</td>\n",
       "      <td>4000</td>\n",
       "    </tr>\n",
       "    <tr>\n",
       "      <th>3</th>\n",
       "      <td>248055.377771</td>\n",
       "      <td>4000</td>\n",
       "    </tr>\n",
       "    <tr>\n",
       "      <th>4</th>\n",
       "      <td>228615.773974</td>\n",
       "      <td>4000</td>\n",
       "    </tr>\n",
       "    <tr>\n",
       "      <th>5</th>\n",
       "      <td>242875.843652</td>\n",
       "      <td>4000</td>\n",
       "    </tr>\n",
       "    <tr>\n",
       "      <th>6</th>\n",
       "      <td>252037.705589</td>\n",
       "      <td>4000</td>\n",
       "    </tr>\n",
       "    <tr>\n",
       "      <th>7</th>\n",
       "      <td>249928.976012</td>\n",
       "      <td>5000</td>\n",
       "    </tr>\n",
       "    <tr>\n",
       "      <th>8</th>\n",
       "      <td>256959.096474</td>\n",
       "      <td>5000</td>\n",
       "    </tr>\n",
       "    <tr>\n",
       "      <th>9</th>\n",
       "      <td>265181.087813</td>\n",
       "      <td>5000</td>\n",
       "    </tr>\n",
       "    <tr>\n",
       "      <th>10</th>\n",
       "      <td>265164.482846</td>\n",
       "      <td>5000</td>\n",
       "    </tr>\n",
       "    <tr>\n",
       "      <th>11</th>\n",
       "      <td>278141.273093</td>\n",
       "      <td>5000</td>\n",
       "    </tr>\n",
       "    <tr>\n",
       "      <th>12</th>\n",
       "      <td>246021.077982</td>\n",
       "      <td>6000</td>\n",
       "    </tr>\n",
       "    <tr>\n",
       "      <th>13</th>\n",
       "      <td>207617.004301</td>\n",
       "      <td>6000</td>\n",
       "    </tr>\n",
       "    <tr>\n",
       "      <th>14</th>\n",
       "      <td>274838.232719</td>\n",
       "      <td>6000</td>\n",
       "    </tr>\n",
       "    <tr>\n",
       "      <th>15</th>\n",
       "      <td>258336.455890</td>\n",
       "      <td>7000</td>\n",
       "    </tr>\n",
       "    <tr>\n",
       "      <th>16</th>\n",
       "      <td>256923.071874</td>\n",
       "      <td>7000</td>\n",
       "    </tr>\n",
       "    <tr>\n",
       "      <th>17</th>\n",
       "      <td>267760.150890</td>\n",
       "      <td>7000</td>\n",
       "    </tr>\n",
       "    <tr>\n",
       "      <th>18</th>\n",
       "      <td>289643.118813</td>\n",
       "      <td>7000</td>\n",
       "    </tr>\n",
       "    <tr>\n",
       "      <th>19</th>\n",
       "      <td>280954.932820</td>\n",
       "      <td>7000</td>\n",
       "    </tr>\n",
       "  </tbody>\n",
       "</table>\n",
       "</div>"
      ],
      "text/plain": [
       "              TPS  Connections\n",
       "0   113007.197612         1000\n",
       "1   111137.661855         1000\n",
       "2   255905.428852         4000\n",
       "3   248055.377771         4000\n",
       "4   228615.773974         4000\n",
       "5   242875.843652         4000\n",
       "6   252037.705589         4000\n",
       "7   249928.976012         5000\n",
       "8   256959.096474         5000\n",
       "9   265181.087813         5000\n",
       "10  265164.482846         5000\n",
       "11  278141.273093         5000\n",
       "12  246021.077982         6000\n",
       "13  207617.004301         6000\n",
       "14  274838.232719         6000\n",
       "15  258336.455890         7000\n",
       "16  256923.071874         7000\n",
       "17  267760.150890         7000\n",
       "18  289643.118813         7000\n",
       "19  280954.932820         7000"
      ]
     },
     "execution_count": 104,
     "metadata": {},
     "output_type": "execute_result"
    }
   ],
   "source": [
    "data = pd.DataFrame(values, columns=['TPS', 'Connections'])\n",
    "data"
   ]
  },
  {
   "cell_type": "code",
   "execution_count": 105,
   "metadata": {},
   "outputs": [
    {
     "data": {
      "image/png": "[encoded data removed]",
      "text/plain": [
       "<Figure size 432x288 with 1 Axes>"
      ]
     },
     "metadata": {},
     "output_type": "display_data"
    }
   ],
   "source": [
    "# Applying a Style to Your Seaborn Graph\n",
    "import matplotlib\n",
    "\n",
    "sns.set_style('whitegrid')\n",
    "sns.set_palette(\"rocket\")\n",
    "sns.scatterplot(data=data,\n",
    "    x=\"Connections\",\n",
    "    y=\"TPS\",\n",
    "    markers=\"o\"\n",
    ")\n",
    "plt.xlabel('Connections')\n",
    "plt.ylabel(\"Throughput (TPS)\")\n",
    "plt.title(\"INSERTS TPS per connection 16x32vCPU Citus cluster\")\n",
    "plt.show()"
   ]
  },
  {
   "cell_type": "code",
   "execution_count": 26,
   "metadata": {},
   "outputs": [
    {
     "ename": "NameError",
     "evalue": "name 'mean' is not defined",
     "output_type": "error",
     "traceback": [
      "\u001b[0;31m---------------------------------------------------------------------------\u001b[0m",
      "\u001b[0;31mNameError\u001b[0m                                 Traceback (most recent call last)",
      "\u001b[1;32m/home/ccfelius/thesis/queueing/src/Untitled-1.ipynb Cell 7\u001b[0m in \u001b[0;36m<cell line: 7>\u001b[0;34m()\u001b[0m\n\u001b[1;32m      <a href='vscode-notebook-cell://wsl%2Bubuntu/home/ccfelius/thesis/queueing/src/Untitled-1.ipynb#W6sdnNjb2RlLXJlbW90ZQ%3D%3D?line=3'>4</a>\u001b[0m \u001b[39mimport\u001b[39;00m \u001b[39mmatplotlib\u001b[39;00m\u001b[39m.\u001b[39;00m\u001b[39mpyplot\u001b[39;00m \u001b[39mas\u001b[39;00m \u001b[39mplt\u001b[39;00m\n\u001b[1;32m      <a href='vscode-notebook-cell://wsl%2Bubuntu/home/ccfelius/thesis/queueing/src/Untitled-1.ipynb#W6sdnNjb2RlLXJlbW90ZQ%3D%3D?line=5'>6</a>\u001b[0m ax \u001b[39m=\u001b[39m sns\u001b[39m.\u001b[39mlineplot(x\u001b[39m=\u001b[39mxaxis, y\u001b[39m=\u001b[39mtps)\n\u001b[0;32m----> <a href='vscode-notebook-cell://wsl%2Bubuntu/home/ccfelius/thesis/queueing/src/Untitled-1.ipynb#W6sdnNjb2RlLXJlbW90ZQ%3D%3D?line=6'>7</a>\u001b[0m ax\u001b[39m.\u001b[39merrorbar(mean, yerr\u001b[39m=\u001b[39mstd, fmt\u001b[39m=\u001b[39m\u001b[39m'\u001b[39m\u001b[39m-o\u001b[39m\u001b[39m'\u001b[39m)\n",
      "\u001b[0;31mNameError\u001b[0m: name 'mean' is not defined"
     ]
    },
    {
     "data": {
      "image/png": "[encoded data removed]",
      "text/plain": [
       "<Figure size 432x288 with 1 Axes>"
      ]
     },
     "metadata": {},
     "output_type": "display_data"
    }
   ],
   "source": [
    "import numpy as np;\n",
    "import seaborn as sns;\n",
    "import pandas as pd\n",
    "import matplotlib.pyplot as plt\n",
    "\n",
    "ax = sns.lineplot(x=xaxis, y=tps)\n",
    "ax.errorbar(mean, yerr=std, fmt='-o') #, err_style=\"unit_traces\")\n"
   ]
  }
 ],
 "metadata": {
  "kernelspec": {
   "display_name": "Python 3.8.10 64-bit",
   "language": "python",
   "name": "python3"
  },
  "language_info": {
   "codemirror_mode": {
    "name": "ipython",
    "version": 3
   },
   "file_extension": ".py",
   "mimetype": "text/x-python",
   "name": "python",
   "nbconvert_exporter": "python",
   "pygments_lexer": "ipython3",
   "version": "3.8.10"
  },
  "orig_nbformat": 4,
  "vscode": {
   "interpreter": {
    "hash": "916dbcbb3f70747c44a77c7bcd40155683ae19c65e1c03b4aa3499c5328201f1"
   }
  }
 },
 "nbformat": 4,
 "nbformat_minor": 2
}
