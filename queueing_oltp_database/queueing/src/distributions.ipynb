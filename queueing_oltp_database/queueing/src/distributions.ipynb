{
 "cells": [
  {
   "cell_type": "code",
   "execution_count": 2,
   "metadata": {},
   "outputs": [
    {
     "data": {
      "image/png": "[encoded data removed]",
      "text/plain": [
       "<Figure size 432x288 with 1 Axes>"
      ]
     },
     "metadata": {
      "needs_background": "light"
     },
     "output_type": "display_data"
    }
   ],
   "source": [
    "# import the required libraries \n",
    "import random \n",
    "import matplotlib.pyplot as plt \n",
    "    \n",
    "# store the random numbers in a list \n",
    "nums = [] \n",
    "l = 1.5\n",
    "    \n",
    "for i in range(10000): \n",
    "    temp = random.expovariate(l)\n",
    "    nums.append(temp) \n",
    "        \n",
    "# plotting a graph \n",
    "plt.hist(nums, bins = 200) \n",
    "plt.show()"
   ]
  },
  {
   "cell_type": "code",
   "execution_count": 8,
   "metadata": {},
   "outputs": [
    {
     "data": {
      "image/png": "[encoded data removed]",
      "text/plain": [
       "<Figure size 432x288 with 1 Axes>"
      ]
     },
     "metadata": {
      "needs_background": "light"
     },
     "output_type": "display_data"
    }
   ],
   "source": [
    "# import the required libraries \n",
    "import random \n",
    "import matplotlib.pyplot as plt \n",
    "    \n",
    "# store the random numbers in a list \n",
    "nums = [] \n",
    "l = 1.5\n",
    "    \n",
    "for i in range(10000): \n",
    "    temp = random.expovariate(1/0.21)\n",
    "    nums.append(temp) \n",
    "        \n",
    "# plotting a graph \n",
    "plt.hist(nums, bins = 200) \n",
    "plt.show()"
   ]
  }
 ],
 "metadata": {
  "kernelspec": {
   "display_name": "Python 3.8.10 64-bit",
   "language": "python",
   "name": "python3"
  },
  "language_info": {
   "codemirror_mode": {
    "name": "ipython",
    "version": 3
   },
   "file_extension": ".py",
   "mimetype": "text/x-python",
   "name": "python",
   "nbconvert_exporter": "python",
   "pygments_lexer": "ipython3",
   "version": "3.8.10"
  },
  "orig_nbformat": 4,
  "vscode": {
   "interpreter": {
    "hash": "916dbcbb3f70747c44a77c7bcd40155683ae19c65e1c03b4aa3499c5328201f1"
   }
  }
 },
 "nbformat": 4,
 "nbformat_minor": 2
}
